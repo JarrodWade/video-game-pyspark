{
 "cells": [
  {
   "cell_type": "code",
   "execution_count": null,
   "id": "5f40a41d-5c57-4ee5-9a37-44cb1a0348bb",
   "metadata": {},
   "outputs": [],
   "source": [
    "#Imports and Setup\n",
    "from rawg.api import RAWG\n",
    "from pyspark.sql import SparkSession\n",
    "from pyspark.sql.types import *\n",
    "from pyspark.sql.functions import *\n",
    "import pandas as pd\n",
    "from datetime import datetime\n",
    "import os\n",
    "from time import sleep"
   ]
  },
  {
   "cell_type": "code",
   "execution_count": null,
   "id": "0c511350-422a-4405-9395-d8e3c02d1366",
   "metadata": {},
   "outputs": [],
   "source": [
    "# Initialize RAWG client and Spark\n",
    "rawg_client = RAWG(os.getenv('RAWG_API_KEY'))\n",
    "\n",
    "spark = SparkSession.builder \\\n",
    "    .config(\"spark.sql.catalog.demo\", \"org.apache.iceberg.spark.SparkCatalog\") \\\n",
    "    .config(\"spark.sql.catalog.demo.catalog-impl\", \"org.apache.iceberg.rest.RESTCatalog\") \\\n",
    "    .config(\"spark.sql.catalog.demo.uri\", \"http://rest:8181\") \\\n",
    "    .config(\"spark.sql.catalog.demo.io-impl\", \"org.apache.iceberg.aws.s3.S3FileIO\") \\\n",
    "    .config(\"spark.sql.catalog.demo.warehouse\", \"s3://rawg-video-game-sales/\") \\\n",
    "    .config(\"spark.sql.catalog.demo.s3.endpoint\", \"http://minio:9000\") \\\n",
    "    .getOrCreate()"
   ]
  },
  {
   "cell_type": "code",
   "execution_count": null,
   "id": "753e06b7-dd63-472d-9571-0beef5569a1e",
   "metadata": {},
   "outputs": [],
   "source": [
    "# Extract data\n",
    "def fetch_games_with_rawg(start_date, end_date):\n",
    "    games_list = []\n",
    "    page = 1\n",
    "    \n",
    "    while True:\n",
    "        games = rawg_client.get_games(\n",
    "            dates=f'{start_date},{end_date}',\n",
    "            page=page,\n",
    "            page_size=40,\n",
    "            ordering='-released'\n",
    "        )\n",
    "        \n",
    "        if not games['results']:\n",
    "            break\n",
    "            \n",
    "        for game in games['results']:\n",
    "            game_data = {\n",
    "                'id': game.get('id'),\n",
    "                'name': game.get('name'),\n",
    "                'released': game.get('released'),\n",
    "                'rating': game.get('rating'),\n",
    "                'ratings_count': game.get('ratings_count'),\n",
    "                'metacritic': game.get('metacritic'),\n",
    "                'playtime': game.get('playtime'),\n",
    "                'platforms': [p['platform']['name'] for p in game.get('platforms', [])],\n",
    "                'genres': [g['name'] for g in game.get('genres', [])],\n",
    "                'tags': [t['name'] for t in game.get('tags', [])][:5],\n",
    "                'esrb_rating': game.get('esrb_rating', {}).get('name'),\n",
    "                'background_image': game.get('background_image')\n",
    "            }\n",
    "            games_list.append(game_data)\n",
    "        \n",
    "        print(f\"Processed page {page}, found {len(games['results'])} games\")\n",
    "        page += 1\n",
    "        sleep(0.5)\n",
    "    \n",
    "    return pd.DataFrame(games_list)\n",
    "\n",
    "# Get the data\n",
    "df_games = fetch_games_with_rawg('2024-01-01', '2024-06-30')\n",
    "\n",
    "# Clean list columns\n",
    "df_games['platforms'] = df_games['platforms'].apply(lambda x: ', '.join(x))\n",
    "df_games['genres'] = df_games['genres'].apply(lambda x: ', '.join(x))\n",
    "df_games['tags'] = df_games['tags'].apply(lambda x: ', '.join(x))\n",
    "\n",
    "# Show the pandas DataFrame\n",
    "print(\"Sample of raw data:\")\n",
    "display(df_games.head())"
   ]
  }
 ],
 "metadata": {
  "kernelspec": {
   "display_name": "Python 3 (ipykernel)",
   "language": "python",
   "name": "python3"
  },
  "language_info": {
   "codemirror_mode": {
    "name": "ipython",
    "version": 3
   },
   "file_extension": ".py",
   "mimetype": "text/x-python",
   "name": "python",
   "nbconvert_exporter": "python",
   "pygments_lexer": "ipython3",
   "version": "3.9.18"
  }
 },
 "nbformat": 4,
 "nbformat_minor": 5
}
