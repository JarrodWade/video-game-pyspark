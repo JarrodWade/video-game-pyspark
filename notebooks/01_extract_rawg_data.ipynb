{
 "cells": [
  {
   "cell_type": "code",
   "execution_count": 1,
   "metadata": {
    "vscode": {
     "languageId": "plaintext"
    }
   },
   "outputs": [],
   "source": [
    "import asyncio\n",
    "import rawg\n",
    "import pandas as pd\n",
    "import boto3\n",
    "import os"
   ]
  },
  {
   "cell_type": "code",
   "execution_count": 2,
   "metadata": {
    "vscode": {
     "languageId": "plaintext"
    }
   },
   "outputs": [],
   "source": [
    "# Initialize S3 client -- this is where we utilize our .env AWS Creds\n",
    "s3 = boto3.client('s3',\n",
    "    aws_access_key_id=os.getenv('AWS_ACCESS_KEY_ID'),\n",
    "    aws_secret_access_key=os.getenv('AWS_SECRET_ACCESS_KEY'),\n",
    "    region_name=os.getenv('AWS_REGION')\n",
    ")"
   ]
  },
  {
   "cell_type": "code",
   "execution_count": 3,
   "metadata": {},
   "outputs": [
    {
     "name": "stdout",
     "output_type": "stream",
     "text": [
      "Bucket rawg-pyspark already exists\n"
     ]
    }
   ],
   "source": [
    "# Create bucket\n",
    "bucket_name = 'rawg-pyspark'\n",
    "\n",
    "try:\n",
    "    s3.create_bucket(\n",
    "        Bucket=bucket_name,\n",
    "        CreateBucketConfiguration={\n",
    "            'LocationConstraint': os.getenv('AWS_REGION')\n",
    "        }\n",
    "    )\n",
    "    print(f\"Successfully created bucket: {bucket_name}\")\n",
    "    \n",
    "    # Set up bucket folders/prefixes\n",
    "    folders = [\n",
    "        'raw/games/',      # Raw data from RAWG API\n",
    "        'processed/games/' # Transformed data\n",
    "    ]\n",
    "    \n",
    "    for folder in folders:\n",
    "        s3.put_object(Bucket=bucket_name, Key=folder)\n",
    "        print(f\"Created folder: {folder}\")\n",
    "        \n",
    "except s3.exceptions.BucketAlreadyOwnedByYou:\n",
    "    print(f\"Bucket {bucket_name} already exists\")\n",
    "except Exception as e:\n",
    "    print(f\"Error: {e}\")"
   ]
  },
  {
   "cell_type": "code",
   "execution_count": 4,
   "metadata": {
    "vscode": {
     "languageId": "plaintext"
    }
   },
   "outputs": [],
   "source": [
    "# Per the rawg PyPi documentation, async is one way to make multiple API calls efficiently\n",
    "\n",
    "async def fetch_games_for_date_range(api, start_date, end_date):\n",
    "    try:\n",
    "        games = await api.games_list(\n",
    "            dates=f\"{start_date},{end_date}\",\n",
    "            ordering='-ratings'\n",
    "        )\n",
    "        \n",
    "        games_list = []\n",
    "        for game in games.results:\n",
    "            platforms = [p['platform']['name'] for p in game.to_dict()['platforms']] if game.platforms else []\n",
    "\n",
    "            # let's grab values we are interested in + some quick default values\n",
    "            game_data = {\n",
    "                'id': game.id,\n",
    "                'name': game.name,\n",
    "                'released': game.released,\n",
    "                'rating': float(game.rating) if game.rating else None,\n",
    "                'ratings_count': int(game.ratings_count) if game.ratings_count else None,\n",
    "                'metacritic': int(game.metacritic) if game.metacritic else None,\n",
    "                'playtime': int(game.playtime) if game.playtime else None,\n",
    "                'platforms': ', '.join(platforms),\n",
    "                'slug': game.slug,\n",
    "                'background_image': game.background_image,\n",
    "                'rating_top': int(game.rating_top) if game.rating_top else None\n",
    "            }\n",
    "            # cumulatively add data to running list\n",
    "            games_list.append(game_data)\n",
    "            \n",
    "        return games_list\n",
    "    \n",
    "    except Exception as e:\n",
    "        print(f\"Error fetching data for {start_date} to {end_date}: {e}\")\n",
    "        return []"
   ]
  },
  {
   "cell_type": "code",
   "execution_count": 5,
   "metadata": {
    "vscode": {
     "languageId": "plaintext"
    }
   },
   "outputs": [],
   "source": [
    "# Define the function to fetch all games \n",
    "# passing date ranges for multiple API requests we are planning to make\n",
    "async def fetch_all_games():\n",
    "    # we are interested in these ranges\n",
    "    # will asynchronously fetch data from the RAWG API per each range\n",
    "    date_ranges = [\n",
    "        ('2024-01-01', '2024-03-31'),\n",
    "        ('2024-04-01', '2024-06-30'),\n",
    "        ('2024-07-01', '2024-09-30'),\n",
    "        ('2024-10-01', '2024-12-31')\n",
    "    ]\n",
    "    \n",
    "    all_games = []\n",
    "    async with rawg.ApiClient(\n",
    "        rawg.Configuration(\n",
    "            api_key={'key': os.getenv('RAWG_API_KEY')}\n",
    "        )\n",
    "    ) as api_client:\n",
    "        api = rawg.GamesApi(api_client)\n",
    "        \n",
    "        # Create tasks for all date ranges\n",
    "        tasks = [fetch_games_for_date_range(api, start, end) \n",
    "                for start, end in date_ranges]\n",
    "        \n",
    "        # Execute all tasks concurrently\n",
    "        results = await asyncio.gather(*tasks)\n",
    "        \n",
    "        # Combine results\n",
    "        for games in results:\n",
    "            all_games.extend(games)\n",
    "    \n",
    "    return pd.DataFrame(all_games)"
   ]
  },
  {
   "cell_type": "code",
   "execution_count": 6,
   "metadata": {},
   "outputs": [
    {
     "name": "stdout",
     "output_type": "stream",
     "text": [
      "Total games fetched: 80\n"
     ]
    }
   ],
   "source": [
    "# actually fetch the data now\n",
    "df_games = await fetch_all_games()\n",
    "print(f\"Total games fetched: {len(df_games)}\")"
   ]
  },
  {
   "cell_type": "code",
   "execution_count": 7,
   "metadata": {
    "vscode": {
     "languageId": "plaintext"
    }
   },
   "outputs": [
    {
     "name": "stdout",
     "output_type": "stream",
     "text": [
      "Upload status: 200\n"
     ]
    }
   ],
   "source": [
    "# Save to CSV and upload to S3\n",
    "csv_buffer = df_games.to_csv(index=False)\n",
    "\n",
    "response = s3.put_object(Bucket='rawg-pyspark', Key='raw/games/games_2024.csv', Body=csv_buffer)\n",
    "\n",
    "# Print only necessary information\n",
    "print(f\"Upload status: {response['ResponseMetadata']['HTTPStatusCode']}\")"
   ]
  }
 ],
 "metadata": {
  "kernelspec": {
   "display_name": "Python 3 (ipykernel)",
   "language": "python",
   "name": "python3"
  },
  "language_info": {
   "codemirror_mode": {
    "name": "ipython",
    "version": 3
   },
   "file_extension": ".py",
   "mimetype": "text/x-python",
   "name": "python",
   "nbconvert_exporter": "python",
   "pygments_lexer": "ipython3",
   "version": "3.11.6"
  }
 },
 "nbformat": 4,
 "nbformat_minor": 4
}
