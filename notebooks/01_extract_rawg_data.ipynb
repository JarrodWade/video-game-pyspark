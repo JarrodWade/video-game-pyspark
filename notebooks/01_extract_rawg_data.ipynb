{
 "cells": [
  {
   "cell_type": "code",
   "execution_count": 2,
   "metadata": {
    "vscode": {
     "languageId": "plaintext"
    }
   },
   "outputs": [],
   "source": [
    "import asyncio\n",
    "import rawg\n",
    "import pandas as pd\n",
    "import boto3\n",
    "import os\n"
   ]
  },
  {
   "cell_type": "code",
   "execution_count": 3,
   "metadata": {
    "vscode": {
     "languageId": "plaintext"
    }
   },
   "outputs": [],
   "source": [
    "# Initialize S3 client\n",
    "s3 = boto3.client('s3',\n",
    "    aws_access_key_id=os.getenv('AWS_ACCESS_KEY_ID'),\n",
    "    aws_secret_access_key=os.getenv('AWS_SECRET_ACCESS_KEY'),\n",
    "    region_name=os.getenv('AWS_REGION')\n",
    ")"
   ]
  },
  {
   "cell_type": "code",
   "execution_count": 4,
   "metadata": {},
   "outputs": [
    {
     "name": "stdout",
     "output_type": "stream",
     "text": [
      "Error: An error occurred (BucketAlreadyOwnedByYou) when calling the CreateBucket operation: Your previous request to create the named bucket succeeded and you already own it.\n"
     ]
    }
   ],
   "source": [
    "# Create bucket\n",
    "bucket_name = 'rawg-pyspark'\n",
    "\n",
    "try:\n",
    "    s3.create_bucket(\n",
    "        Bucket=bucket_name,\n",
    "        CreateBucketConfiguration={\n",
    "            'LocationConstraint': os.getenv('AWS_REGION')\n",
    "        }\n",
    "    )\n",
    "    print(f\"Successfully created bucket: {bucket_name}\")\n",
    "    \n",
    "    # Set up bucket folders/prefixes\n",
    "    folders = [\n",
    "        'raw/games/',      # Raw data from RAWG API\n",
    "        'processed/games/' # Transformed data\n",
    "    ]\n",
    "    \n",
    "    for folder in folders:\n",
    "        s3.put_object(Bucket=bucket_name, Key=folder)\n",
    "        print(f\"Created folder: {folder}\")\n",
    "        \n",
    "except Exception as e:\n",
    "    print(f\"Error: {e}\")"
   ]
  },
  {
   "cell_type": "code",
   "execution_count": 12,
   "metadata": {
    "vscode": {
     "languageId": "plaintext"
    }
   },
   "outputs": [],
   "source": [
    "async def fetch_games_with_rawg(start_date, end_date):\n",
    "    games_list = []\n",
    "    \n",
    "    async with rawg.ApiClient(\n",
    "        rawg.Configuration(\n",
    "            api_key={'key': os.getenv('RAWG_API_KEY')}\n",
    "        )\n",
    "    ) as api_client:\n",
    "        api = rawg.GamesApi(api_client)\n",
    "        \n",
    "        try:\n",
    "            games = await api.games_list(\n",
    "                dates=f\"{start_date},{end_date}\",\n",
    "                ordering='-ratings'\n",
    "            )\n",
    "            \n",
    "            for game in games.results:\n",
    "                platforms = [p['platform']['name'] for p in game.to_dict()['platforms']] if game.platforms else []\n",
    "                \n",
    "                game_data = {\n",
    "                    'id': game.id,\n",
    "                    'name': game.name,\n",
    "                    'released': game.released,\n",
    "                    'rating': float(game.rating) if game.rating else None,\n",
    "                    'ratings_count': int(game.ratings_count) if game.ratings_count else None,\n",
    "                    'metacritic': int(game.metacritic) if game.metacritic else None,\n",
    "                    'playtime': int(game.playtime) if game.playtime else None,\n",
    "                    'platforms': ', '.join(platforms),\n",
    "                    'slug': game.slug,\n",
    "                    'background_image': game.background_image,\n",
    "                    'rating_top': int(game.rating_top) if game.rating_top else None\n",
    "                }\n",
    "                games_list.append(game_data)\n",
    "                \n",
    "        except Exception as e:\n",
    "            print(f\"Error fetching data: {e}\")\n",
    "    \n",
    "    return pd.DataFrame(games_list)"
   ]
  },
  {
   "cell_type": "code",
   "execution_count": 18,
   "metadata": {
    "vscode": {
     "languageId": "plaintext"
    }
   },
   "outputs": [
    {
     "data": {
      "text/html": [
       "<div>\n",
       "<style scoped>\n",
       "    .dataframe tbody tr th:only-of-type {\n",
       "        vertical-align: middle;\n",
       "    }\n",
       "\n",
       "    .dataframe tbody tr th {\n",
       "        vertical-align: top;\n",
       "    }\n",
       "\n",
       "    .dataframe thead th {\n",
       "        text-align: right;\n",
       "    }\n",
       "</style>\n",
       "<table border=\"1\" class=\"dataframe\">\n",
       "  <thead>\n",
       "    <tr style=\"text-align: right;\">\n",
       "      <th></th>\n",
       "      <th>id</th>\n",
       "      <th>name</th>\n",
       "      <th>released</th>\n",
       "      <th>rating</th>\n",
       "      <th>ratings_count</th>\n",
       "      <th>metacritic</th>\n",
       "      <th>playtime</th>\n",
       "      <th>platforms</th>\n",
       "      <th>slug</th>\n",
       "      <th>background_image</th>\n",
       "      <th>rating_top</th>\n",
       "    </tr>\n",
       "  </thead>\n",
       "  <tbody>\n",
       "    <tr>\n",
       "      <th>0</th>\n",
       "      <td>58806</td>\n",
       "      <td>Satisfactory</td>\n",
       "      <td>2024-09-11</td>\n",
       "      <td>4.29</td>\n",
       "      <td>289</td>\n",
       "      <td>None</td>\n",
       "      <td>12.0</td>\n",
       "      <td>PC</td>\n",
       "      <td>satisfactory</td>\n",
       "      <td>https://media.rawg.io/media/games/9b0/9b03581c...</td>\n",
       "      <td>5.0</td>\n",
       "    </tr>\n",
       "    <tr>\n",
       "      <th>1</th>\n",
       "      <td>303576</td>\n",
       "      <td>Vampire: The Masquerade - Bloodlines 2</td>\n",
       "      <td>2024-11-30</td>\n",
       "      <td>3.89</td>\n",
       "      <td>255</td>\n",
       "      <td>None</td>\n",
       "      <td>329.0</td>\n",
       "      <td>PC, PlayStation 5, Xbox One, PlayStation 4, Xb...</td>\n",
       "      <td>vampire-the-masquerade-bloodlines-2</td>\n",
       "      <td>https://media.rawg.io/media/games/fb5/fb5e0fdb...</td>\n",
       "      <td>5.0</td>\n",
       "    </tr>\n",
       "    <tr>\n",
       "      <th>2</th>\n",
       "      <td>58386</td>\n",
       "      <td>S.T.A.L.K.E.R. 2: Heart of Chornobyl</td>\n",
       "      <td>2024-11-20</td>\n",
       "      <td>3.81</td>\n",
       "      <td>197</td>\n",
       "      <td>None</td>\n",
       "      <td>3.0</td>\n",
       "      <td>PC, Xbox Series S/X</td>\n",
       "      <td>stalker-2</td>\n",
       "      <td>https://media.rawg.io/media/games/3e8/3e81585e...</td>\n",
       "      <td>5.0</td>\n",
       "    </tr>\n",
       "    <tr>\n",
       "      <th>3</th>\n",
       "      <td>616688</td>\n",
       "      <td>Core Keeper</td>\n",
       "      <td>2024-08-26</td>\n",
       "      <td>4.00</td>\n",
       "      <td>63</td>\n",
       "      <td>None</td>\n",
       "      <td>4.0</td>\n",
       "      <td>PC, Linux</td>\n",
       "      <td>core-keeper</td>\n",
       "      <td>https://media.rawg.io/media/games/8d9/8d980d35...</td>\n",
       "      <td>4.0</td>\n",
       "    </tr>\n",
       "    <tr>\n",
       "      <th>4</th>\n",
       "      <td>481913</td>\n",
       "      <td>Black Myth: Wukong</td>\n",
       "      <td>2024-08-20</td>\n",
       "      <td>4.37</td>\n",
       "      <td>71</td>\n",
       "      <td>None</td>\n",
       "      <td>NaN</td>\n",
       "      <td>PC, PlayStation 5, Xbox Series S/X</td>\n",
       "      <td>black-myth-wu-kong</td>\n",
       "      <td>https://media.rawg.io/media/games/779/77988e89...</td>\n",
       "      <td>5.0</td>\n",
       "    </tr>\n",
       "  </tbody>\n",
       "</table>\n",
       "</div>"
      ],
      "text/plain": [
       "       id                                    name    released  rating  \\\n",
       "0   58806                            Satisfactory  2024-09-11    4.29   \n",
       "1  303576  Vampire: The Masquerade - Bloodlines 2  2024-11-30    3.89   \n",
       "2   58386    S.T.A.L.K.E.R. 2: Heart of Chornobyl  2024-11-20    3.81   \n",
       "3  616688                             Core Keeper  2024-08-26    4.00   \n",
       "4  481913                      Black Myth: Wukong  2024-08-20    4.37   \n",
       "\n",
       "   ratings_count metacritic  playtime  \\\n",
       "0            289       None      12.0   \n",
       "1            255       None     329.0   \n",
       "2            197       None       3.0   \n",
       "3             63       None       4.0   \n",
       "4             71       None       NaN   \n",
       "\n",
       "                                           platforms  \\\n",
       "0                                                 PC   \n",
       "1  PC, PlayStation 5, Xbox One, PlayStation 4, Xb...   \n",
       "2                                PC, Xbox Series S/X   \n",
       "3                                          PC, Linux   \n",
       "4                 PC, PlayStation 5, Xbox Series S/X   \n",
       "\n",
       "                                  slug  \\\n",
       "0                         satisfactory   \n",
       "1  vampire-the-masquerade-bloodlines-2   \n",
       "2                            stalker-2   \n",
       "3                          core-keeper   \n",
       "4                   black-myth-wu-kong   \n",
       "\n",
       "                                    background_image  rating_top  \n",
       "0  https://media.rawg.io/media/games/9b0/9b03581c...         5.0  \n",
       "1  https://media.rawg.io/media/games/fb5/fb5e0fdb...         5.0  \n",
       "2  https://media.rawg.io/media/games/3e8/3e81585e...         5.0  \n",
       "3  https://media.rawg.io/media/games/8d9/8d980d35...         4.0  \n",
       "4  https://media.rawg.io/media/games/779/77988e89...         5.0  "
      ]
     },
     "execution_count": 18,
     "metadata": {},
     "output_type": "execute_result"
    }
   ],
   "source": [
    "# Fetch data\n",
    "df_games = await fetch_games_with_rawg('2024-06-01', '2024-12-01')\n",
    "df_games.head()"
   ]
  },
  {
   "cell_type": "code",
   "execution_count": 19,
   "metadata": {
    "vscode": {
     "languageId": "plaintext"
    }
   },
   "outputs": [
    {
     "data": {
      "text/plain": [
       "{'ResponseMetadata': {'RequestId': '5G42QYKPVDXZZXSG',\n",
       "  'HostId': 'aTyKGSAlcWsWxicisMLNaDQgWXTrxodvhSsBIs3Owq4WABRuwffodL5gx4MMBlt7rFEU/J3YSgg=',\n",
       "  'HTTPStatusCode': 200,\n",
       "  'HTTPHeaders': {'x-amz-id-2': 'aTyKGSAlcWsWxicisMLNaDQgWXTrxodvhSsBIs3Owq4WABRuwffodL5gx4MMBlt7rFEU/J3YSgg=',\n",
       "   'x-amz-request-id': '5G42QYKPVDXZZXSG',\n",
       "   'date': 'Tue, 03 Dec 2024 07:26:46 GMT',\n",
       "   'x-amz-server-side-encryption': 'AES256',\n",
       "   'etag': '\"225da50f84883ba0272f286124f7fa7a\"',\n",
       "   'content-length': '0',\n",
       "   'server': 'AmazonS3'},\n",
       "  'RetryAttempts': 0},\n",
       " 'ETag': '\"225da50f84883ba0272f286124f7fa7a\"',\n",
       " 'ServerSideEncryption': 'AES256'}"
      ]
     },
     "execution_count": 19,
     "metadata": {},
     "output_type": "execute_result"
    }
   ],
   "source": [
    "# Save to CSV and upload to S3\n",
    "csv_buffer = df_games.to_csv(index=False)\n",
    "s3.put_object(Bucket='rawg-pyspark', Key='raw/games/games_2024_06_12.csv', Body=csv_buffer)"
   ]
  },
  {
   "cell_type": "code",
   "execution_count": null,
   "metadata": {},
   "outputs": [],
   "source": []
  }
 ],
 "metadata": {
  "kernelspec": {
   "display_name": "Python 3 (ipykernel)",
   "language": "python",
   "name": "python3"
  },
  "language_info": {
   "codemirror_mode": {
    "name": "ipython",
    "version": 3
   },
   "file_extension": ".py",
   "mimetype": "text/x-python",
   "name": "python",
   "nbconvert_exporter": "python",
   "pygments_lexer": "ipython3",
   "version": "3.11.6"
  }
 },
 "nbformat": 4,
 "nbformat_minor": 4
}
