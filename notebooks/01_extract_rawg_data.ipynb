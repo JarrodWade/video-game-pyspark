{
 "cells": [
  {
   "cell_type": "code",
   "execution_count": 1,
   "metadata": {
    "vscode": {
     "languageId": "plaintext"
    }
   },
   "outputs": [],
   "source": [
    "import asyncio\n",
    "import rawg\n",
    "import pandas as pd\n",
    "import boto3\n",
    "import os\n"
   ]
  },
  {
   "cell_type": "code",
   "execution_count": 2,
   "metadata": {
    "vscode": {
     "languageId": "plaintext"
    }
   },
   "outputs": [],
   "source": [
    "# Initialize S3 client\n",
    "s3 = boto3.client('s3',\n",
    "    aws_access_key_id=os.getenv('AWS_ACCESS_KEY_ID'),\n",
    "    aws_secret_access_key=os.getenv('AWS_SECRET_ACCESS_KEY'),\n",
    "    region_name=os.getenv('AWS_REGION')\n",
    ")"
   ]
  },
  {
   "cell_type": "code",
   "execution_count": 4,
   "metadata": {},
   "outputs": [
    {
     "name": "stdout",
     "output_type": "stream",
     "text": [
      "Successfully created bucket: rawg-pyspark\n",
      "Created folder: raw/games/\n",
      "Created folder: processed/games/\n"
     ]
    }
   ],
   "source": [
    "# Create bucket\n",
    "bucket_name = 'rawg-pyspark'\n",
    "\n",
    "try:\n",
    "    s3.create_bucket(\n",
    "        Bucket=bucket_name,\n",
    "        CreateBucketConfiguration={\n",
    "            'LocationConstraint': os.getenv('AWS_REGION')\n",
    "        }\n",
    "    )\n",
    "    print(f\"Successfully created bucket: {bucket_name}\")\n",
    "    \n",
    "    # Set up bucket folders/prefixes\n",
    "    folders = [\n",
    "        'raw/games/',      # Raw data from RAWG API\n",
    "        'processed/games/' # Transformed data\n",
    "    ]\n",
    "    \n",
    "    for folder in folders:\n",
    "        s3.put_object(Bucket=bucket_name, Key=folder)\n",
    "        print(f\"Created folder: {folder}\")\n",
    "        \n",
    "except Exception as e:\n",
    "    print(f\"Error: {e}\")"
   ]
  },
  {
   "cell_type": "code",
   "execution_count": 5,
   "metadata": {
    "vscode": {
     "languageId": "plaintext"
    }
   },
   "outputs": [],
   "source": [
    "async def fetch_games_with_rawg(start_date, end_date):\n",
    "    games_list = []\n",
    "    \n",
    "    async with rawg.ApiClient(\n",
    "        rawg.Configuration(\n",
    "            api_key={'key': os.getenv('RAWG_API_KEY')}\n",
    "        )\n",
    "    ) as api_client:\n",
    "        api = rawg.GamesApi(api_client)\n",
    "        \n",
    "        try:\n",
    "            games = await api.games_list(\n",
    "                dates=f\"{start_date},{end_date}\",\n",
    "                ordering='-released',\n",
    "                page_size=40,\n",
    "                page=1\n",
    "            )\n",
    "            \n",
    "            for game in games.results:\n",
    "                platforms = [p['platform']['name'] for p in game.to_dict()['platforms']] if game.platforms else []\n",
    "                \n",
    "                game_data = {\n",
    "                    'id': game.id,\n",
    "                    'name': game.name,\n",
    "                    'released': game.released,\n",
    "                    'rating': float(game.rating) if game.rating else None,\n",
    "                    'ratings_count': int(game.ratings_count) if game.ratings_count else None,\n",
    "                    'metacritic': int(game.metacritic) if game.metacritic else None,\n",
    "                    'playtime': int(game.playtime) if game.playtime else None,\n",
    "                    'platforms': ', '.join(platforms),\n",
    "                    'slug': game.slug,\n",
    "                    'background_image': game.background_image,\n",
    "                    'rating_top': int(game.rating_top) if game.rating_top else None\n",
    "                }\n",
    "                games_list.append(game_data)\n",
    "                \n",
    "        except Exception as e:\n",
    "            print(f\"Error fetching data: {e}\")\n",
    "    \n",
    "    return pd.DataFrame(games_list)"
   ]
  },
  {
   "cell_type": "code",
   "execution_count": 7,
   "metadata": {
    "vscode": {
     "languageId": "plaintext"
    }
   },
   "outputs": [
    {
     "data": {
      "text/html": [
       "<div>\n",
       "<style scoped>\n",
       "    .dataframe tbody tr th:only-of-type {\n",
       "        vertical-align: middle;\n",
       "    }\n",
       "\n",
       "    .dataframe tbody tr th {\n",
       "        vertical-align: top;\n",
       "    }\n",
       "\n",
       "    .dataframe thead th {\n",
       "        text-align: right;\n",
       "    }\n",
       "</style>\n",
       "<table border=\"1\" class=\"dataframe\">\n",
       "  <thead>\n",
       "    <tr style=\"text-align: right;\">\n",
       "      <th></th>\n",
       "      <th>id</th>\n",
       "      <th>name</th>\n",
       "      <th>released</th>\n",
       "      <th>rating</th>\n",
       "      <th>ratings_count</th>\n",
       "      <th>metacritic</th>\n",
       "      <th>playtime</th>\n",
       "      <th>platforms</th>\n",
       "      <th>slug</th>\n",
       "      <th>background_image</th>\n",
       "      <th>rating_top</th>\n",
       "    </tr>\n",
       "  </thead>\n",
       "  <tbody>\n",
       "    <tr>\n",
       "      <th>0</th>\n",
       "      <td>988108</td>\n",
       "      <td>World Without Reason</td>\n",
       "      <td>2024-08-31</td>\n",
       "      <td>None</td>\n",
       "      <td>None</td>\n",
       "      <td>None</td>\n",
       "      <td>None</td>\n",
       "      <td>PC, macOS, Linux</td>\n",
       "      <td>world-without-reason</td>\n",
       "      <td>https://media.rawg.io/media/screenshots/2fa/2f...</td>\n",
       "      <td>None</td>\n",
       "    </tr>\n",
       "    <tr>\n",
       "      <th>1</th>\n",
       "      <td>988238</td>\n",
       "      <td>Slutlike</td>\n",
       "      <td>2024-08-31</td>\n",
       "      <td>None</td>\n",
       "      <td>None</td>\n",
       "      <td>None</td>\n",
       "      <td>None</td>\n",
       "      <td>PC</td>\n",
       "      <td>slutlike</td>\n",
       "      <td>https://media.rawg.io/media/screenshots/ca9/ca...</td>\n",
       "      <td>None</td>\n",
       "    </tr>\n",
       "    <tr>\n",
       "      <th>2</th>\n",
       "      <td>988228</td>\n",
       "      <td>Canfield Solitaire Classic Card Game</td>\n",
       "      <td>2024-08-31</td>\n",
       "      <td>None</td>\n",
       "      <td>None</td>\n",
       "      <td>None</td>\n",
       "      <td>None</td>\n",
       "      <td>PC</td>\n",
       "      <td>canfield-solitaire-classic-card-game</td>\n",
       "      <td>https://media.rawg.io/media/screenshots/7b8/7b...</td>\n",
       "      <td>None</td>\n",
       "    </tr>\n",
       "    <tr>\n",
       "      <th>3</th>\n",
       "      <td>988227</td>\n",
       "      <td>Monkey Forward</td>\n",
       "      <td>2024-08-31</td>\n",
       "      <td>None</td>\n",
       "      <td>None</td>\n",
       "      <td>None</td>\n",
       "      <td>None</td>\n",
       "      <td>PC</td>\n",
       "      <td>monkey-forward</td>\n",
       "      <td>https://media.rawg.io/media/screenshots/5bd/5b...</td>\n",
       "      <td>None</td>\n",
       "    </tr>\n",
       "    <tr>\n",
       "      <th>4</th>\n",
       "      <td>988225</td>\n",
       "      <td>PacaPomo</td>\n",
       "      <td>2024-08-31</td>\n",
       "      <td>None</td>\n",
       "      <td>None</td>\n",
       "      <td>None</td>\n",
       "      <td>None</td>\n",
       "      <td>PC</td>\n",
       "      <td>pacapomo</td>\n",
       "      <td>https://media.rawg.io/media/screenshots/242/24...</td>\n",
       "      <td>None</td>\n",
       "    </tr>\n",
       "  </tbody>\n",
       "</table>\n",
       "</div>"
      ],
      "text/plain": [
       "       id                                  name    released rating  \\\n",
       "0  988108                  World Without Reason  2024-08-31   None   \n",
       "1  988238                              Slutlike  2024-08-31   None   \n",
       "2  988228  Canfield Solitaire Classic Card Game  2024-08-31   None   \n",
       "3  988227                        Monkey Forward  2024-08-31   None   \n",
       "4  988225                              PacaPomo  2024-08-31   None   \n",
       "\n",
       "  ratings_count metacritic playtime         platforms  \\\n",
       "0          None       None     None  PC, macOS, Linux   \n",
       "1          None       None     None                PC   \n",
       "2          None       None     None                PC   \n",
       "3          None       None     None                PC   \n",
       "4          None       None     None                PC   \n",
       "\n",
       "                                   slug  \\\n",
       "0                  world-without-reason   \n",
       "1                              slutlike   \n",
       "2  canfield-solitaire-classic-card-game   \n",
       "3                        monkey-forward   \n",
       "4                              pacapomo   \n",
       "\n",
       "                                    background_image rating_top  \n",
       "0  https://media.rawg.io/media/screenshots/2fa/2f...       None  \n",
       "1  https://media.rawg.io/media/screenshots/ca9/ca...       None  \n",
       "2  https://media.rawg.io/media/screenshots/7b8/7b...       None  \n",
       "3  https://media.rawg.io/media/screenshots/5bd/5b...       None  \n",
       "4  https://media.rawg.io/media/screenshots/242/24...       None  "
      ]
     },
     "execution_count": 7,
     "metadata": {},
     "output_type": "execute_result"
    }
   ],
   "source": [
    "# Fetch data\n",
    "df_games = await fetch_games_with_rawg('2024-08-01', '2024-08-31')\n",
    "df_games.head()"
   ]
  },
  {
   "cell_type": "code",
   "execution_count": 8,
   "metadata": {
    "vscode": {
     "languageId": "plaintext"
    }
   },
   "outputs": [
    {
     "data": {
      "text/plain": [
       "{'ResponseMetadata': {'RequestId': 'T3XBQES2C8QPPSDJ',\n",
       "  'HostId': 'UGod8JgmDbLgt9AOhRU3VB80G3I1vBWaQ8qrovt7tYL3i3ZIUlARhB46L+OkdTYuVA5wIPhPLI8=',\n",
       "  'HTTPStatusCode': 200,\n",
       "  'HTTPHeaders': {'x-amz-id-2': 'UGod8JgmDbLgt9AOhRU3VB80G3I1vBWaQ8qrovt7tYL3i3ZIUlARhB46L+OkdTYuVA5wIPhPLI8=',\n",
       "   'x-amz-request-id': 'T3XBQES2C8QPPSDJ',\n",
       "   'date': 'Tue, 03 Dec 2024 06:44:31 GMT',\n",
       "   'x-amz-server-side-encryption': 'AES256',\n",
       "   'etag': '\"7dc80c7f90f6d13889f4081b092f537b\"',\n",
       "   'content-length': '0',\n",
       "   'server': 'AmazonS3'},\n",
       "  'RetryAttempts': 0},\n",
       " 'ETag': '\"7dc80c7f90f6d13889f4081b092f537b\"',\n",
       " 'ServerSideEncryption': 'AES256'}"
      ]
     },
     "execution_count": 8,
     "metadata": {},
     "output_type": "execute_result"
    }
   ],
   "source": [
    "# Save to CSV and upload to S3\n",
    "csv_buffer = df_games.to_csv(index=False)\n",
    "s3.put_object(Bucket='rawg-pyspark', Key='raw/games/games_2024_08.csv', Body=csv_buffer)"
   ]
  },
  {
   "cell_type": "code",
   "execution_count": null,
   "metadata": {},
   "outputs": [],
   "source": []
  }
 ],
 "metadata": {
  "kernelspec": {
   "display_name": "Python 3 (ipykernel)",
   "language": "python",
   "name": "python3"
  },
  "language_info": {
   "codemirror_mode": {
    "name": "ipython",
    "version": 3
   },
   "file_extension": ".py",
   "mimetype": "text/x-python",
   "name": "python",
   "nbconvert_exporter": "python",
   "pygments_lexer": "ipython3",
   "version": "3.11.6"
  }
 },
 "nbformat": 4,
 "nbformat_minor": 4
}
