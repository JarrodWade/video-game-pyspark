{
 "cells": [
  {
   "cell_type": "code",
   "execution_count": 42,
   "metadata": {},
   "outputs": [],
   "source": [
    "# Imports \n",
    "from pyspark.sql import SparkSession\n",
    "from pyspark.sql.functions import *\n",
    "import os"
   ]
  },
  {
   "cell_type": "code",
   "execution_count": 43,
   "metadata": {},
   "outputs": [
    {
     "data": {
      "text/html": [
       "\n",
       "            <div>\n",
       "                <p><b>SparkSession - in-memory</b></p>\n",
       "                \n",
       "        <div>\n",
       "            <p><b>SparkContext</b></p>\n",
       "\n",
       "            <p><a href=\"http://8728002834c1:4040\">Spark UI</a></p>\n",
       "\n",
       "            <dl>\n",
       "              <dt>Version</dt>\n",
       "                <dd><code>v3.5.0</code></dd>\n",
       "              <dt>Master</dt>\n",
       "                <dd><code>local[*]</code></dd>\n",
       "              <dt>AppName</dt>\n",
       "                <dd><code>RAWG Data Processing</code></dd>\n",
       "            </dl>\n",
       "        </div>\n",
       "        \n",
       "            </div>\n",
       "        "
      ],
      "text/plain": [
       "<pyspark.sql.session.SparkSession at 0xffff802bbd90>"
      ]
     },
     "execution_count": 43,
     "metadata": {},
     "output_type": "execute_result"
    }
   ],
   "source": [
    "# Initialize Spark\n",
    "# key pain point here is making sure Spark can communicate with S3 and work with parquet file format\n",
    "spark = SparkSession.builder \\\n",
    "    .appName(\"RAWG Data Processing\") \\\n",
    "    .config(\"spark.hadoop.fs.s3a.access.key\", os.getenv('AWS_ACCESS_KEY_ID')) \\\n",
    "    .config(\"spark.hadoop.fs.s3a.secret.key\", os.getenv('AWS_SECRET_ACCESS_KEY')) \\\n",
    "    .config(\"spark.hadoop.fs.s3a.endpoint\", \"s3.amazonaws.com\") \\\n",
    "    .config(\"spark.hadoop.fs.s3a.impl\", \"org.apache.hadoop.fs.s3a.S3AFileSystem\") \\\n",
    "    .getOrCreate()\n",
    "\n",
    "spark"
   ]
  },
  {
   "cell_type": "code",
   "execution_count": 44,
   "metadata": {},
   "outputs": [
    {
     "name": "stdout",
     "output_type": "stream",
     "text": [
      "+------+--------------------+----------+------+-------------+----------+--------+--------------------+--------------------+--------------------+----------+\n",
      "|    id|                name|  released|rating|ratings_count|metacritic|playtime|           platforms|                slug|    background_image|rating_top|\n",
      "+------+--------------------+----------+------+-------------+----------+--------+--------------------+--------------------+--------------------+----------+\n",
      "|804753|    Dragon’s Dogma 2|2024-03-21|  4.06|           44|      NULL|    28.0|PC, PlayStation 5...|     dragons-dogma-2|https://media.raw...|       5.0|\n",
      "|398405|  Sons of the Forest|2024-02-22|  3.62|           87|      NULL|    11.0|                  PC|  sons-of-the-forest|https://media.raw...|       4.0|\n",
      "|301516|          Last Epoch|2024-02-21|   3.6|           68|      NULL|     7.0|    PC, macOS, Linux|          last-epoch|https://media.raw...|       4.0|\n",
      "|718135|            Palworld|2024-01-19|  3.48|           98|      NULL|    21.0| PC, Xbox Series S/X|            palworld|https://media.raw...|       4.0|\n",
      "|976564|        HELLDIVERS 2|2024-02-08|  4.21|           60|      NULL|    21.0|                  PC|        helldivers-2|https://media.raw...|       4.0|\n",
      "|962011|Prince of Persia:...|2024-01-18|  3.96|           69|      NULL|    NULL|PC, PlayStation 5...|prince-of-persia-...|https://media.raw...|       4.0|\n",
      "|457728|Suicide Squad: Ki...|2024-02-02|  1.93|           56|      NULL|    14.0|PC, PlayStation 5...|suicide-squad-kil...|https://media.raw...|       1.0|\n",
      "|850702|       Pacific Drive|2024-02-21|  3.82|           52|      NULL|     6.0|   PC, PlayStation 5|       pacific-drive|https://media.raw...|       4.0|\n",
      "|898351|Banishers: Ghosts...|2024-02-12|  3.71|           51|      NULL|     3.0|PC, PlayStation 5...|banishers-ghosts-...|https://media.raw...|       4.0|\n",
      "|977316|             Balatro|2024-02-20|  4.47|           71|      NULL|    12.0| PC, Nintendo Switch|             balatro|https://media.raw...|       5.0|\n",
      "|962676|    Persona 3 Reload|2024-02-01|  4.39|           56|      NULL|    20.0|PC, PlayStation 5...|    persona-3-reload|https://media.raw...|       5.0|\n",
      "|  9794|       The Universim|2024-01-22|  3.56|           36|      NULL|     4.0|    PC, macOS, Linux|       the-universim|https://media.raw...|       4.0|\n",
      "|975600|  Portal: Revolution|2024-01-06|  4.13|           14|      NULL|     2.0|                  PC|   portal-revolution|https://media.raw...|       4.0|\n",
      "|802435|Final Fantasy VII...|2024-02-29|   4.5|           29|      NULL|    NULL|       PlayStation 5|final-fantasy-vii...|https://media.raw...|       5.0|\n",
      "|849517|   Alone in the Dark|2024-03-20|  3.59|           47|      NULL|    NULL|PC, PlayStation 5...|alone-in-the-dark...|https://media.raw...|       4.0|\n",
      "| 29239|       Skull & Bones|2024-02-16|  1.98|           40|      NULL|    NULL|PC, PlayStation 5...|         skull-bones|https://media.raw...|       1.0|\n",
      "|850705|            Tekken 8|2024-01-25|  4.16|           47|      NULL|    20.0|PC, PlayStation 5...|            tekken-8|https://media.raw...|       4.0|\n",
      "|962135|  Islands of Insight|2024-02-13|  3.18|           11|      NULL|     4.0|                  PC|  islands-of-insight|https://media.raw...|       4.0|\n",
      "|961204|       Helldivers II|2024-02-08|  4.38|           51|      NULL|    NULL|   PC, PlayStation 5|       helldivers-ii|https://media.raw...|       5.0|\n",
      "|357246|Granblue Fantasy:...|2024-02-01|  3.47|           19|      NULL|    NULL|PC, PlayStation 5...|granblue-fantasy-...|https://media.raw...|       4.0|\n",
      "+------+--------------------+----------+------+-------------+----------+--------+--------------------+--------------------+--------------------+----------+\n",
      "only showing top 20 rows\n",
      "\n"
     ]
    }
   ],
   "source": [
    "# Read data from S3\n",
    "df = spark.read \\\n",
    "    .option(\"header\", \"true\") \\\n",
    "    .option(\"inferSchema\", \"true\") \\\n",
    "    .csv(\"s3a://rawg-pyspark/raw/games/games_2024.csv\")\n",
    "\n",
    "df.show()"
   ]
  },
  {
   "cell_type": "code",
   "execution_count": 45,
   "metadata": {},
   "outputs": [
    {
     "name": "stdout",
     "output_type": "stream",
     "text": [
      "+------+--------------------+----------+------+-------------+----------+--------+--------------------+--------------------+--------------------+----------+----+-----+-------+------------------+--------------+---------------+\n",
      "|    id|                name|  released|rating|ratings_count|metacritic|playtime|           platforms|                slug|    background_image|rating_top|year|month|quarter|days_since_release|platform_count|rating_category|\n",
      "+------+--------------------+----------+------+-------------+----------+--------+--------------------+--------------------+--------------------+----------+----+-----+-------+------------------+--------------+---------------+\n",
      "|804753|    Dragon’s Dogma 2|2024-03-21|  4.06|           44|      NULL|    28.0|PC, PlayStation 5...|     dragons-dogma-2|https://media.raw...|       5.0|2024|    3|      1|               257|             3|           Good|\n",
      "|398405|  Sons of the Forest|2024-02-22|  3.62|           87|      NULL|    11.0|                  PC|  sons-of-the-forest|https://media.raw...|       4.0|2024|    2|      1|               285|             1|           Good|\n",
      "|301516|          Last Epoch|2024-02-21|   3.6|           68|      NULL|     7.0|    PC, macOS, Linux|          last-epoch|https://media.raw...|       4.0|2024|    2|      1|               286|             3|           Good|\n",
      "|718135|            Palworld|2024-01-19|  3.48|           98|      NULL|    21.0| PC, Xbox Series S/X|            palworld|https://media.raw...|       4.0|2024|    1|      1|               319|             2|        Average|\n",
      "|976564|        HELLDIVERS 2|2024-02-08|  4.21|           60|      NULL|    21.0|                  PC|        helldivers-2|https://media.raw...|       4.0|2024|    2|      1|               299|             1|           Good|\n",
      "|962011|Prince of Persia:...|2024-01-18|  3.96|           69|      NULL|     0.0|PC, PlayStation 5...|prince-of-persia-...|https://media.raw...|       4.0|2024|    1|      1|               320|             6|           Good|\n",
      "|457728|Suicide Squad: Ki...|2024-02-02|  1.93|           56|      NULL|    14.0|PC, PlayStation 5...|suicide-squad-kil...|https://media.raw...|       1.0|2024|    2|      1|               305|             3|           Poor|\n",
      "|850702|       Pacific Drive|2024-02-21|  3.82|           52|      NULL|     6.0|   PC, PlayStation 5|       pacific-drive|https://media.raw...|       4.0|2024|    2|      1|               286|             2|           Good|\n",
      "|898351|Banishers: Ghosts...|2024-02-12|  3.71|           51|      NULL|     3.0|PC, PlayStation 5...|banishers-ghosts-...|https://media.raw...|       4.0|2024|    2|      1|               295|             3|           Good|\n",
      "|977316|             Balatro|2024-02-20|  4.47|           71|      NULL|    12.0| PC, Nintendo Switch|             balatro|https://media.raw...|       5.0|2024|    2|      1|               287|             2|           Good|\n",
      "|962676|    Persona 3 Reload|2024-02-01|  4.39|           56|      NULL|    20.0|PC, PlayStation 5...|    persona-3-reload|https://media.raw...|       5.0|2024|    2|      1|               306|             5|           Good|\n",
      "|  9794|       The Universim|2024-01-22|  3.56|           36|      NULL|     4.0|    PC, macOS, Linux|       the-universim|https://media.raw...|       4.0|2024|    1|      1|               316|             3|           Good|\n",
      "|975600|  Portal: Revolution|2024-01-06|  4.13|           14|      NULL|     2.0|                  PC|   portal-revolution|https://media.raw...|       4.0|2024|    1|      1|               332|             1|           Good|\n",
      "|802435|Final Fantasy VII...|2024-02-29|   4.5|           29|      NULL|     0.0|       PlayStation 5|final-fantasy-vii...|https://media.raw...|       5.0|2024|    2|      1|               278|             1|      Excellent|\n",
      "|849517|   Alone in the Dark|2024-03-20|  3.59|           47|      NULL|     0.0|PC, PlayStation 5...|alone-in-the-dark...|https://media.raw...|       4.0|2024|    3|      1|               258|             3|           Good|\n",
      "| 29239|       Skull & Bones|2024-02-16|  1.98|           40|      NULL|     0.0|PC, PlayStation 5...|         skull-bones|https://media.raw...|       1.0|2024|    2|      1|               291|             3|           Poor|\n",
      "|850705|            Tekken 8|2024-01-25|  4.16|           47|      NULL|    20.0|PC, PlayStation 5...|            tekken-8|https://media.raw...|       4.0|2024|    1|      1|               313|             3|           Good|\n",
      "|962135|  Islands of Insight|2024-02-13|  3.18|           11|      NULL|     4.0|                  PC|  islands-of-insight|https://media.raw...|       4.0|2024|    2|      1|               294|             1|        Average|\n",
      "|961204|       Helldivers II|2024-02-08|  4.38|           51|      NULL|     0.0|   PC, PlayStation 5|       helldivers-ii|https://media.raw...|       5.0|2024|    2|      1|               299|             2|           Good|\n",
      "|357246|Granblue Fantasy:...|2024-02-01|  3.47|           19|      NULL|     0.0|PC, PlayStation 5...|granblue-fantasy-...|https://media.raw...|       4.0|2024|    2|      1|               306|             3|        Average|\n",
      "+------+--------------------+----------+------+-------------+----------+--------+--------------------+--------------------+--------------------+----------+----+-----+-------+------------------+--------------+---------------+\n",
      "only showing top 20 rows\n",
      "\n"
     ]
    }
   ],
   "source": [
    "# Apply transformations\n",
    "transformed_df = df \\\n",
    "    .filter((col(\"ratings_count\") > 10)) \\\n",
    "    .withColumn(\"year\", year(\"released\")) \\\n",
    "    .withColumn(\"month\", month(\"released\")) \\\n",
    "    .withColumn(\"quarter\", quarter(\"released\")) \\\n",
    "    .withColumn(\"days_since_release\", datediff(current_date(), to_date(\"released\"))) \\\n",
    "    .withColumn(\"platform_count\", size(split(col(\"platforms\"), \", \"))) \\\n",
    "    .withColumn(\"rating_category\", when(col(\"rating\") >= 4.5, \"Excellent\") # basically an enum\n",
    "                                   .when(col(\"rating\") >= 3.5, \"Good\")\n",
    "                                   .when(col(\"rating\") >= 2.5, \"Average\")\n",
    "                                   .otherwise(\"Poor\")) \\\n",
    "    .fillna({\"playtime\": 0})  # Fill missing values\n",
    "\n",
    "transformed_df.show()"
   ]
  },
  {
   "cell_type": "code",
   "execution_count": 46,
   "metadata": {},
   "outputs": [
    {
     "name": "stdout",
     "output_type": "stream",
     "text": [
      "Transformed data saved as Parquet by quarter to S3\n"
     ]
    }
   ],
   "source": [
    "# Finally -- Save transformed data partitioned by quarter. \n",
    "# Will move on to Athena to analyze our data now that it is saved, partitioned, and ready to query. \n",
    "transformed_df.write.partitionBy(\"quarter\").mode(\"overwrite\").parquet(\"s3a://rawg-pyspark/processed/games/\")\n",
    "print(\"Transformed data saved as Parquet by quarter to S3\")"
   ]
  }
 ],
 "metadata": {
  "kernelspec": {
   "display_name": "Python 3 (ipykernel)",
   "language": "python",
   "name": "python3"
  },
  "language_info": {
   "codemirror_mode": {
    "name": "ipython",
    "version": 3
   },
   "file_extension": ".py",
   "mimetype": "text/x-python",
   "name": "python",
   "nbconvert_exporter": "python",
   "pygments_lexer": "ipython3",
   "version": "3.11.6"
  }
 },
 "nbformat": 4,
 "nbformat_minor": 4
}
