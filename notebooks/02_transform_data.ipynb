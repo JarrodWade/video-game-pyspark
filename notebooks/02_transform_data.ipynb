{
 "cells": [
  {
   "cell_type": "code",
   "execution_count": 15,
   "metadata": {},
   "outputs": [],
   "source": [
    "from pyspark.sql import SparkSession\n",
    "from pyspark.sql.functions import *\n",
    "import os"
   ]
  },
  {
   "cell_type": "code",
   "execution_count": 16,
   "metadata": {},
   "outputs": [
    {
     "data": {
      "text/html": [
       "\n",
       "            <div>\n",
       "                <p><b>SparkSession - in-memory</b></p>\n",
       "                \n",
       "        <div>\n",
       "            <p><b>SparkContext</b></p>\n",
       "\n",
       "            <p><a href=\"http://8728002834c1:4040\">Spark UI</a></p>\n",
       "\n",
       "            <dl>\n",
       "              <dt>Version</dt>\n",
       "                <dd><code>v3.5.0</code></dd>\n",
       "              <dt>Master</dt>\n",
       "                <dd><code>local[*]</code></dd>\n",
       "              <dt>AppName</dt>\n",
       "                <dd><code>RAWG Data Processing</code></dd>\n",
       "            </dl>\n",
       "        </div>\n",
       "        \n",
       "            </div>\n",
       "        "
      ],
      "text/plain": [
       "<pyspark.sql.session.SparkSession at 0xffff802bbd90>"
      ]
     },
     "execution_count": 16,
     "metadata": {},
     "output_type": "execute_result"
    }
   ],
   "source": [
    "# Initialize Spark\n",
    "spark = SparkSession.builder \\\n",
    "    .appName(\"RAWG Data Processing\") \\\n",
    "    .config(\"spark.hadoop.fs.s3a.access.key\", os.getenv('AWS_ACCESS_KEY_ID')) \\\n",
    "    .config(\"spark.hadoop.fs.s3a.secret.key\", os.getenv('AWS_SECRET_ACCESS_KEY')) \\\n",
    "    .config(\"spark.hadoop.fs.s3a.endpoint\", \"s3.amazonaws.com\") \\\n",
    "    .config(\"spark.hadoop.fs.s3a.impl\", \"org.apache.hadoop.fs.s3a.S3AFileSystem\") \\\n",
    "    .getOrCreate()\n",
    "\n",
    "spark"
   ]
  },
  {
   "cell_type": "code",
   "execution_count": 17,
   "metadata": {},
   "outputs": [
    {
     "name": "stdout",
     "output_type": "stream",
     "text": [
      "+------+--------------------+----------+------+-------------+----------+--------+--------------------+--------------------+--------------------+----------+\n",
      "|    id|                name|  released|rating|ratings_count|metacritic|playtime|           platforms|                slug|    background_image|rating_top|\n",
      "+------+--------------------+----------+------+-------------+----------+--------+--------------------+--------------------+--------------------+----------+\n",
      "| 58806|        Satisfactory|2024-09-11|  4.29|          289|      NULL|    12.0|                  PC|        satisfactory|https://media.raw...|       5.0|\n",
      "|303576|Vampire: The Masq...|2024-11-30|  3.89|          255|      NULL|   329.0|PC, PlayStation 5...|vampire-the-masqu...|https://media.raw...|       5.0|\n",
      "| 58386|S.T.A.L.K.E.R. 2:...|2024-11-20|  3.81|          197|      NULL|     3.0| PC, Xbox Series S/X|           stalker-2|https://media.raw...|       5.0|\n",
      "|616688|         Core Keeper|2024-08-26|   4.0|           63|      NULL|     4.0|           PC, Linux|         core-keeper|https://media.raw...|       4.0|\n",
      "|481913|  Black Myth: Wukong|2024-08-20|  4.37|           71|      NULL|    NULL|PC, PlayStation 5...|  black-myth-wu-kong|https://media.raw...|       5.0|\n",
      "|258363|   Blade and Sorcery|2024-06-17|   4.0|           44|      NULL|     2.0|                  PC|   blade-and-sorcery|https://media.raw...|       4.0|\n",
      "|705616|Warhammer 40,000:...|2024-09-09|  4.21|           69|      NULL|    NULL|PC, PlayStation 5...|warhammer-40000-s...|https://media.raw...|       4.0|\n",
      "|868086|       Silent Hill 2|2024-10-08|  4.54|           88|      NULL|     1.0|   PC, PlayStation 5|silent-hill-2-remake|https://media.raw...|       5.0|\n",
      "|325032|    Shadows of Doubt|2024-09-26|  4.17|           35|      NULL|     4.0|                  PC|    shadows-of-doubt|https://media.raw...|       5.0|\n",
      "|816311|The First Descendant|2024-06-30|  3.11|           24|      NULL|     2.0|PC, PlayStation 5...|the-first-descendant|https://media.raw...|       3.0|\n",
      "|904375|     Dark and Darker|2024-06-07|  2.92|           25|      NULL|     2.0|                  PC|     dark-and-darker|https://media.raw...|       3.0|\n",
      "| 50739|           Witchfire|2024-09-23|  3.71|           15|      NULL|     9.0|                  PC|           witchfire|https://media.raw...|       5.0|\n",
      "|274764|Dragon Age: Dread...|2024-10-31|  3.07|           26|      NULL|    NULL|PC, PlayStation 5...|    dragon-age-4-tba|https://media.raw...|       4.0|\n",
      "|647660|         Frostpunk 2|2024-09-20|   4.3|           31|      NULL|    16.0|PC, PlayStation 5...|         frostpunk-2|https://media.raw...|       5.0|\n",
      "|724095|              Peglin|2024-08-27|  3.39|           17|      NULL|     3.0|PC, Nintendo Swit...|              peglin|https://media.raw...|       4.0|\n",
      "|962020|   Star Wars Outlaws|2024-08-30|   2.7|           20|      NULL|    NULL|PC, PlayStation 5...|   star-wars-outlaws|https://media.raw...|       4.0|\n",
      "|485219|Unknown 9: Awakening|2024-10-17|  3.19|           16|      NULL|     3.0|PC, PlayStation 5...|           unknown-9|https://media.raw...|       5.0|\n",
      "| 28158|      The Last Night|2024-10-11|  NULL|            2|      NULL|    NULL|PC, Xbox One, mac...|      the-last-night|https://media.raw...|      NULL|\n",
      "|977470|Elden Ring: Shado...|2024-06-21|  4.57|           48|      NULL|    NULL|PC, PlayStation 5...|elden-ring-shadow...|https://media.raw...|       5.0|\n",
      "|804851|   The Plucky Squire|2024-09-17|  3.91|           32|      NULL|     1.0|PC, PlayStation 5...|   the-plucky-squire|https://media.raw...|       5.0|\n",
      "+------+--------------------+----------+------+-------------+----------+--------+--------------------+--------------------+--------------------+----------+\n",
      "\n"
     ]
    }
   ],
   "source": [
    "# Read data from S3\n",
    "df = spark.read \\\n",
    "    .option(\"header\", \"true\") \\\n",
    "    .option(\"inferSchema\", \"true\") \\\n",
    "    .csv(\"s3a://rawg-pyspark/raw/games/games_2024_06_12.csv\")\n",
    "\n",
    "df.show()"
   ]
  },
  {
   "cell_type": "code",
   "execution_count": 18,
   "metadata": {},
   "outputs": [
    {
     "name": "stdout",
     "output_type": "stream",
     "text": [
      "+------+--------------------+----------+------+-------------+----------+--------+--------------------+--------------------+--------------------+----------+----+-----+--------------+\n",
      "|    id|                name|  released|rating|ratings_count|metacritic|playtime|           platforms|                slug|    background_image|rating_top|year|month|platform_count|\n",
      "+------+--------------------+----------+------+-------------+----------+--------+--------------------+--------------------+--------------------+----------+----+-----+--------------+\n",
      "| 58806|        Satisfactory|2024-09-11|  4.29|          289|      NULL|    12.0|                  PC|        satisfactory|https://media.raw...|       5.0|2024|    9|             1|\n",
      "|303576|Vampire: The Masq...|2024-11-30|  3.89|          255|      NULL|   329.0|PC, PlayStation 5...|vampire-the-masqu...|https://media.raw...|       5.0|2024|   11|             5|\n",
      "| 58386|S.T.A.L.K.E.R. 2:...|2024-11-20|  3.81|          197|      NULL|     3.0| PC, Xbox Series S/X|           stalker-2|https://media.raw...|       5.0|2024|   11|             2|\n",
      "|616688|         Core Keeper|2024-08-26|   4.0|           63|      NULL|     4.0|           PC, Linux|         core-keeper|https://media.raw...|       4.0|2024|    8|             2|\n",
      "|481913|  Black Myth: Wukong|2024-08-20|  4.37|           71|      NULL|    NULL|PC, PlayStation 5...|  black-myth-wu-kong|https://media.raw...|       5.0|2024|    8|             3|\n",
      "|258363|   Blade and Sorcery|2024-06-17|   4.0|           44|      NULL|     2.0|                  PC|   blade-and-sorcery|https://media.raw...|       4.0|2024|    6|             1|\n",
      "|705616|Warhammer 40,000:...|2024-09-09|  4.21|           69|      NULL|    NULL|PC, PlayStation 5...|warhammer-40000-s...|https://media.raw...|       4.0|2024|    9|             3|\n",
      "|868086|       Silent Hill 2|2024-10-08|  4.54|           88|      NULL|     1.0|   PC, PlayStation 5|silent-hill-2-remake|https://media.raw...|       5.0|2024|   10|             2|\n",
      "|325032|    Shadows of Doubt|2024-09-26|  4.17|           35|      NULL|     4.0|                  PC|    shadows-of-doubt|https://media.raw...|       5.0|2024|    9|             1|\n",
      "|816311|The First Descendant|2024-06-30|  3.11|           24|      NULL|     2.0|PC, PlayStation 5...|the-first-descendant|https://media.raw...|       3.0|2024|    6|             5|\n",
      "|904375|     Dark and Darker|2024-06-07|  2.92|           25|      NULL|     2.0|                  PC|     dark-and-darker|https://media.raw...|       3.0|2024|    6|             1|\n",
      "| 50739|           Witchfire|2024-09-23|  3.71|           15|      NULL|     9.0|                  PC|           witchfire|https://media.raw...|       5.0|2024|    9|             1|\n",
      "|274764|Dragon Age: Dread...|2024-10-31|  3.07|           26|      NULL|    NULL|PC, PlayStation 5...|    dragon-age-4-tba|https://media.raw...|       4.0|2024|   10|             3|\n",
      "|647660|         Frostpunk 2|2024-09-20|   4.3|           31|      NULL|    16.0|PC, PlayStation 5...|         frostpunk-2|https://media.raw...|       5.0|2024|    9|             4|\n",
      "|724095|              Peglin|2024-08-27|  3.39|           17|      NULL|     3.0|PC, Nintendo Swit...|              peglin|https://media.raw...|       4.0|2024|    8|             4|\n",
      "|962020|   Star Wars Outlaws|2024-08-30|   2.7|           20|      NULL|    NULL|PC, PlayStation 5...|   star-wars-outlaws|https://media.raw...|       4.0|2024|    8|             3|\n",
      "|485219|Unknown 9: Awakening|2024-10-17|  3.19|           16|      NULL|     3.0|PC, PlayStation 5...|           unknown-9|https://media.raw...|       5.0|2024|   10|             5|\n",
      "|977470|Elden Ring: Shado...|2024-06-21|  4.57|           48|      NULL|    NULL|PC, PlayStation 5...|elden-ring-shadow...|https://media.raw...|       5.0|2024|    6|             5|\n",
      "|804851|   The Plucky Squire|2024-09-17|  3.91|           32|      NULL|     1.0|PC, PlayStation 5...|   the-plucky-squire|https://media.raw...|       5.0|2024|    9|             3|\n",
      "+------+--------------------+----------+------+-------------+----------+--------+--------------------+--------------------+--------------------+----------+----+-----+--------------+\n",
      "\n"
     ]
    }
   ],
   "source": [
    "# Apply transformations\n",
    "transformed_df = df \\\n",
    "    .filter((col(\"metacritic\").isNotNull()) | (col(\"playtime\") > 0) | (col(\"ratings_count\") > 10)) \\\n",
    "    .withColumn(\"year\", year(\"released\")) \\\n",
    "    .withColumn(\"month\", month(\"released\")) \\\n",
    "    .withColumn(\"platform_count\", size(split(\"platforms\", \",\")))\n",
    "\n",
    "transformed_df.show()"
   ]
  },
  {
   "cell_type": "code",
   "execution_count": 20,
   "metadata": {},
   "outputs": [],
   "source": [
    "#Write transformed data back to S3\n",
    "transformed_df.write.mode(\"overwrite\").parquet(\"s3a://rawg-pyspark/transformed_data/games_2024_06_12/\")"
   ]
  },
  {
   "cell_type": "code",
   "execution_count": null,
   "metadata": {},
   "outputs": [],
   "source": []
  }
 ],
 "metadata": {
  "kernelspec": {
   "display_name": "Python 3 (ipykernel)",
   "language": "python",
   "name": "python3"
  },
  "language_info": {
   "codemirror_mode": {
    "name": "ipython",
    "version": 3
   },
   "file_extension": ".py",
   "mimetype": "text/x-python",
   "name": "python",
   "nbconvert_exporter": "python",
   "pygments_lexer": "ipython3",
   "version": "3.11.6"
  }
 },
 "nbformat": 4,
 "nbformat_minor": 4
}
