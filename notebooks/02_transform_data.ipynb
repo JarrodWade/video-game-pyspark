{
 "cells": [
  {
   "cell_type": "code",
   "execution_count": 1,
   "metadata": {},
   "outputs": [],
   "source": [
    "from pyspark.sql import SparkSession\n",
    "from pyspark.sql.functions import *\n",
    "import os"
   ]
  },
  {
   "cell_type": "code",
   "execution_count": 2,
   "metadata": {},
   "outputs": [
    {
     "data": {
      "text/html": [
       "\n",
       "            <div>\n",
       "                <p><b>SparkSession - in-memory</b></p>\n",
       "                \n",
       "        <div>\n",
       "            <p><b>SparkContext</b></p>\n",
       "\n",
       "            <p><a href=\"http://8728002834c1:4040\">Spark UI</a></p>\n",
       "\n",
       "            <dl>\n",
       "              <dt>Version</dt>\n",
       "                <dd><code>v3.5.0</code></dd>\n",
       "              <dt>Master</dt>\n",
       "                <dd><code>local[*]</code></dd>\n",
       "              <dt>AppName</dt>\n",
       "                <dd><code>RAWG Data Processing</code></dd>\n",
       "            </dl>\n",
       "        </div>\n",
       "        \n",
       "            </div>\n",
       "        "
      ],
      "text/plain": [
       "<pyspark.sql.session.SparkSession at 0xffff802bbd90>"
      ]
     },
     "execution_count": 2,
     "metadata": {},
     "output_type": "execute_result"
    }
   ],
   "source": [
    "# Initialize Spark\n",
    "spark = SparkSession.builder \\\n",
    "    .appName(\"RAWG Data Processing\") \\\n",
    "    .config(\"spark.hadoop.fs.s3a.access.key\", os.getenv('AWS_ACCESS_KEY_ID')) \\\n",
    "    .config(\"spark.hadoop.fs.s3a.secret.key\", os.getenv('AWS_SECRET_ACCESS_KEY')) \\\n",
    "    .config(\"spark.hadoop.fs.s3a.endpoint\", \"s3.amazonaws.com\") \\\n",
    "    .config(\"spark.hadoop.fs.s3a.impl\", \"org.apache.hadoop.fs.s3a.S3AFileSystem\") \\\n",
    "    .getOrCreate()\n",
    "\n",
    "spark"
   ]
  },
  {
   "cell_type": "code",
   "execution_count": 8,
   "metadata": {},
   "outputs": [
    {
     "name": "stdout",
     "output_type": "stream",
     "text": [
      "+------+-------------------------------------+----------+------+-------------+----------+--------+----------------+--------------------+--------------------+----------+\n",
      "|    id|                                 name|  released|rating|ratings_count|metacritic|playtime|       platforms|                slug|    background_image|rating_top|\n",
      "+------+-------------------------------------+----------+------+-------------+----------+--------+----------------+--------------------+--------------------+----------+\n",
      "|988108|                 World Without Reason|2024-08-31|  NULL|         NULL|      NULL|    NULL|PC, macOS, Linux|world-without-reason|https://media.raw...|      NULL|\n",
      "|988238|                             Slutlike|2024-08-31|  NULL|         NULL|      NULL|    NULL|              PC|            slutlike|https://media.raw...|      NULL|\n",
      "|988228|                 Canfield Solitair...|2024-08-31|  NULL|         NULL|      NULL|    NULL|              PC|canfield-solitair...|https://media.raw...|      NULL|\n",
      "|988227|                       Monkey Forward|2024-08-31|  NULL|         NULL|      NULL|    NULL|              PC|      monkey-forward|https://media.raw...|      NULL|\n",
      "|988225|                             PacaPomo|2024-08-31|  NULL|         NULL|      NULL|    NULL|              PC|            pacapomo|https://media.raw...|      NULL|\n",
      "|988243|                         Rodent Mafia|2024-08-31|  NULL|         NULL|      NULL|    NULL|              PC|        rodent-mafia|https://media.raw...|      NULL|\n",
      "|988224|                     Evil Corporation|2024-08-31|  NULL|         NULL|      NULL|    NULL|              PC|    evil-corporation|https://media.raw...|      NULL|\n",
      "|988231|                             Kovoclak|2024-08-31|  NULL|         NULL|      NULL|    NULL|       PC, Linux|            kovoclak|https://media.raw...|      NULL|\n",
      "|988235|                              Zone 13|2024-08-31|  NULL|         NULL|      NULL|    NULL|              PC|             zone-13|https://media.raw...|      NULL|\n",
      "|988232|                      Celestials Door|2024-08-31|  NULL|         NULL|      NULL|    NULL|              PC|     celestials-door|https://media.raw...|      NULL|\n",
      "|988242|                       Sound of Slash|2024-08-31|  NULL|         NULL|      NULL|    NULL|              PC|      sound-of-slash|https://media.raw...|      NULL|\n",
      "|988237|                  WebCum Secrets 🔞💦|2024-08-31|  NULL|         NULL|      NULL|    NULL|              PC|      webcum-secrets|https://media.raw...|      NULL|\n",
      "|988230|モンスターコマンダーズ - 混沌の戦略譚|2024-08-31|  NULL|         NULL|      NULL|    NULL|              PC|monsutakomandazu-...|https://media.raw...|      NULL|\n",
      "|988229|                 Alaska Solitaire ...|2024-08-31|  NULL|         NULL|      NULL|    NULL|              PC|alaska-solitaire-...|https://media.raw...|      NULL|\n",
      "|988223|                         JustMatching|2024-08-31|  NULL|         NULL|      NULL|    NULL|              PC|        justmatching|https://media.raw...|      NULL|\n",
      "|988236|                 Idle Lust - Succu...|2024-08-31|  NULL|         NULL|      NULL|    NULL|              PC|idle-lust-succubu...|https://media.raw...|      NULL|\n",
      "|988241|                              Bat Tap|2024-08-31|  NULL|         NULL|      NULL|    NULL|              PC|             bat-tap|https://media.raw...|      NULL|\n",
      "|988244|                      The New Sheriff|2024-08-31|  NULL|         NULL|      NULL|    NULL|PC, macOS, Linux|     the-new-sheriff|https://media.raw...|      NULL|\n",
      "|988234|                  Multiplayer Pirates|2024-08-31|  NULL|         NULL|      NULL|    NULL|              PC| multiplayer-pirates|https://media.raw...|      NULL|\n",
      "|988226|                       Easy Ball Game|2024-08-31|  NULL|         NULL|      NULL|    NULL|              PC|      easy-ball-game|https://media.raw...|      NULL|\n",
      "+------+-------------------------------------+----------+------+-------------+----------+--------+----------------+--------------------+--------------------+----------+\n",
      "only showing top 20 rows\n",
      "\n"
     ]
    }
   ],
   "source": [
    "# Read data from S3\n",
    "df = spark.read \\\n",
    "    .option(\"header\", \"true\") \\\n",
    "    .option(\"inferSchema\", \"true\") \\\n",
    "    .csv(\"s3a://rawg-pyspark/raw/games/games_2024_08.csv\")\n",
    "\n",
    "df.show()"
   ]
  },
  {
   "cell_type": "code",
   "execution_count": 10,
   "metadata": {},
   "outputs": [
    {
     "name": "stdout",
     "output_type": "stream",
     "text": [
      "+---+----+--------+------+-------------+----------+--------+---------+----+----------------+----------+----+-----+--------------+\n",
      "| id|name|released|rating|ratings_count|metacritic|playtime|platforms|slug|background_image|rating_top|year|month|platform_count|\n",
      "+---+----+--------+------+-------------+----------+--------+---------+----+----------------+----------+----+-----+--------------+\n",
      "+---+----+--------+------+-------------+----------+--------+---------+----+----------------+----------+----+-----+--------------+\n",
      "\n"
     ]
    }
   ],
   "source": [
    "# Apply transformations\n",
    "transformed_df = df \\\n",
    "    .filter((col(\"metacritic\").isNotNull()) | (col(\"playtime\") > 0) | (col(\"ratings_count\") > 10)) \\\n",
    "    .withColumn(\"year\", year(\"released\")) \\\n",
    "    .withColumn(\"month\", month(\"released\")) \\\n",
    "    .withColumn(\"platform_count\", size(split(\"platforms\", \",\")))\n",
    "\n",
    "transformed_df.show()"
   ]
  },
  {
   "cell_type": "code",
   "execution_count": null,
   "metadata": {},
   "outputs": [],
   "source": [
    " Write transformed data back to S3\n",
    "transformed_df.write.mode(\"overwrite\").parquet(\"s3a://your-bucket-name/transformed_data/games_2024_08/\")"
   ]
  }
 ],
 "metadata": {
  "kernelspec": {
   "display_name": "Python 3 (ipykernel)",
   "language": "python",
   "name": "python3"
  },
  "language_info": {
   "codemirror_mode": {
    "name": "ipython",
    "version": 3
   },
   "file_extension": ".py",
   "mimetype": "text/x-python",
   "name": "python",
   "nbconvert_exporter": "python",
   "pygments_lexer": "ipython3",
   "version": "3.11.6"
  }
 },
 "nbformat": 4,
 "nbformat_minor": 4
}
