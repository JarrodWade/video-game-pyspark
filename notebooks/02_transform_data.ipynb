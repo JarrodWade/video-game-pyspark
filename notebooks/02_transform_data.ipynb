{
 "cells": [
  {
   "cell_type": "code",
   "execution_count": 11,
   "metadata": {},
   "outputs": [],
   "source": [
    "from pyspark.sql import SparkSession\n",
    "from pyspark.sql.functions import *\n",
    "import os"
   ]
  },
  {
   "cell_type": "code",
   "execution_count": 12,
   "metadata": {},
   "outputs": [
    {
     "data": {
      "text/html": [
       "\n",
       "            <div>\n",
       "                <p><b>SparkSession - in-memory</b></p>\n",
       "                \n",
       "        <div>\n",
       "            <p><b>SparkContext</b></p>\n",
       "\n",
       "            <p><a href=\"http://8728002834c1:4040\">Spark UI</a></p>\n",
       "\n",
       "            <dl>\n",
       "              <dt>Version</dt>\n",
       "                <dd><code>v3.5.0</code></dd>\n",
       "              <dt>Master</dt>\n",
       "                <dd><code>local[*]</code></dd>\n",
       "              <dt>AppName</dt>\n",
       "                <dd><code>RAWG Data Processing</code></dd>\n",
       "            </dl>\n",
       "        </div>\n",
       "        \n",
       "            </div>\n",
       "        "
      ],
      "text/plain": [
       "<pyspark.sql.session.SparkSession at 0xffff802bbd90>"
      ]
     },
     "execution_count": 12,
     "metadata": {},
     "output_type": "execute_result"
    }
   ],
   "source": [
    "# Initialize Spark\n",
    "spark = SparkSession.builder \\\n",
    "    .appName(\"RAWG Data Processing\") \\\n",
    "    .config(\"spark.hadoop.fs.s3a.access.key\", os.getenv('AWS_ACCESS_KEY_ID')) \\\n",
    "    .config(\"spark.hadoop.fs.s3a.secret.key\", os.getenv('AWS_SECRET_ACCESS_KEY')) \\\n",
    "    .config(\"spark.hadoop.fs.s3a.endpoint\", \"s3.amazonaws.com\") \\\n",
    "    .config(\"spark.hadoop.fs.s3a.impl\", \"org.apache.hadoop.fs.s3a.S3AFileSystem\") \\\n",
    "    .getOrCreate()\n",
    "\n",
    "spark"
   ]
  },
  {
   "cell_type": "code",
   "execution_count": 13,
   "metadata": {},
   "outputs": [
    {
     "name": "stdout",
     "output_type": "stream",
     "text": [
      "+------+------------------------------------+----------+------+-------------+----------+--------+----------------+--------------------+--------------------+----------+\n",
      "|    id|                                name|  released|rating|ratings_count|metacritic|playtime|       platforms|                slug|    background_image|rating_top|\n",
      "+------+------------------------------------+----------+------+-------------+----------+--------+----------------+--------------------+--------------------+----------+\n",
      "|988742|                3D PUZZLE - Winte...|2024-09-11|  NULL|         NULL|      NULL|    NULL|PC, macOS, Linux|3d-puzzle-winter-...|https://media.raw...|      NULL|\n",
      "|988756|                Doner Master Simu...|2024-09-11|  NULL|         NULL|      NULL|    NULL|              PC|doner-master-simu...|https://media.raw...|      NULL|\n",
      "|988761|                3D PUZZLE - Pizza...|2024-09-11|  NULL|         NULL|      NULL|    NULL|PC, macOS, Linux|3d-puzzle-pizza-s...|https://media.raw...|      NULL|\n",
      "|988755|▼スライム娘は人間と友達になりたい...|2024-09-11|  NULL|         NULL|      NULL|    NULL|              PC|vsuraimuniang-har...|https://media.raw...|      NULL|\n",
      "|988764|                                CORN|2024-09-11|  NULL|         NULL|      NULL|    NULL|              PC|              corn-2|https://media.raw...|      NULL|\n",
      "|988778|                Grappling Hook an...|2024-09-11|  NULL|         NULL|      NULL|    NULL|              PC|grappling-hook-an...|https://media.raw...|      NULL|\n",
      "|988741|                Eggs: All Guns Br...|2024-09-11|  NULL|         NULL|      NULL|    NULL|              PC|eggs-all-guns-broken|https://media.raw...|      NULL|\n",
      "|988744|                        Zoul Dungeon|2024-09-11|  NULL|         NULL|      NULL|    NULL|              PC|        zoul-dungeon|https://media.raw...|      NULL|\n",
      "|988750|                  Demolish & Build 3|2024-09-11|  NULL|         NULL|      NULL|    NULL|              PC|    demolish-build-3|https://media.raw...|      NULL|\n",
      "|988751|                   DronesKillAnimals|2024-09-11|  NULL|         NULL|      NULL|    NULL|              PC|   droneskillanimals|https://media.raw...|      NULL|\n",
      "|988765|                        Tiles Puzzle|2024-09-11|  NULL|         NULL|      NULL|    NULL|              PC|        tiles-puzzle|https://media.raw...|      NULL|\n",
      "|988769|                CalorieMate LIQUI...|2024-09-11|  NULL|         NULL|      NULL|    NULL|              PC|caloriemate-liqui...|https://media.raw...|      NULL|\n",
      "|988770|                          X Roulette|2024-09-11|  NULL|         NULL|      NULL|    NULL|              PC|          x-roulette|https://media.raw...|      NULL|\n",
      "|988771|                VR Iron Fist Guar...|2024-09-11|  NULL|         NULL|      NULL|    NULL|              PC|vr-iron-fist-guar...|https://media.raw...|      NULL|\n",
      "|988774|                The Adventure of ...|2024-09-11|  NULL|         NULL|      NULL|    NULL|              PC|the-adventure-of-...|https://media.raw...|      NULL|\n",
      "|988772|                Virtual Heritage ...|2024-09-11|  NULL|         NULL|      NULL|    NULL|              PC|virtual-heritage-...|https://media.raw...|      NULL|\n",
      "|988758|                   Emerald Geography|2024-09-11|  NULL|         NULL|      NULL|    NULL|              PC|   emerald-geography|https://media.raw...|      NULL|\n",
      "|988776|                MARVEL vs. CAPCOM...|2024-09-11|  NULL|         NULL|      NULL|     5.0|              PC|marvel-vs-capcom-...|https://media.raw...|      NULL|\n",
      "|988738|                Fighting for Sing...|2024-09-11|  NULL|         NULL|      NULL|    NULL|              PC|fighting-for-sing...|https://media.raw...|      NULL|\n",
      "|988739|                 Tyrannical Chickens|2024-09-11|  NULL|         NULL|      NULL|    NULL|              PC| tyrannical-chickens|https://media.raw...|      NULL|\n",
      "+------+------------------------------------+----------+------+-------------+----------+--------+----------------+--------------------+--------------------+----------+\n",
      "only showing top 20 rows\n",
      "\n"
     ]
    }
   ],
   "source": [
    "# Read data from S3\n",
    "df = spark.read \\\n",
    "    .option(\"header\", \"true\") \\\n",
    "    .option(\"inferSchema\", \"true\") \\\n",
    "    .csv(\"s3a://rawg-pyspark/raw/games/games_2024_08.csv\")\n",
    "\n",
    "df.show()"
   ]
  },
  {
   "cell_type": "code",
   "execution_count": 14,
   "metadata": {},
   "outputs": [
    {
     "name": "stdout",
     "output_type": "stream",
     "text": [
      "+------+--------------------+----------+------+-------------+----------+--------+---------+--------------------+--------------------+----------+----+-----+--------------+\n",
      "|    id|                name|  released|rating|ratings_count|metacritic|playtime|platforms|                slug|    background_image|rating_top|year|month|platform_count|\n",
      "+------+--------------------+----------+------+-------------+----------+--------+---------+--------------------+--------------------+----------+----+-----+--------------+\n",
      "|988776|MARVEL vs. CAPCOM...|2024-09-11|  NULL|         NULL|      NULL|     5.0|       PC|marvel-vs-capcom-...|https://media.raw...|      NULL|2024|    9|             1|\n",
      "| 58806|        Satisfactory|2024-09-11|  4.29|        289.0|      NULL|    12.0|       PC|        satisfactory|https://media.raw...|       5.0|2024|    9|             1|\n",
      "+------+--------------------+----------+------+-------------+----------+--------+---------+--------------------+--------------------+----------+----+-----+--------------+\n",
      "\n"
     ]
    }
   ],
   "source": [
    "# Apply transformations\n",
    "transformed_df = df \\\n",
    "    .filter((col(\"metacritic\").isNotNull()) | (col(\"playtime\") > 0) | (col(\"ratings_count\") > 10)) \\\n",
    "    .withColumn(\"year\", year(\"released\")) \\\n",
    "    .withColumn(\"month\", month(\"released\")) \\\n",
    "    .withColumn(\"platform_count\", size(split(\"platforms\", \",\")))\n",
    "\n",
    "transformed_df.show()"
   ]
  },
  {
   "cell_type": "code",
   "execution_count": null,
   "metadata": {},
   "outputs": [],
   "source": [
    " Write transformed data back to S3\n",
    "transformed_df.write.mode(\"overwrite\").parquet(\"s3a://your-bucket-name/transformed_data/games_2024_08/\")"
   ]
  }
 ],
 "metadata": {
  "kernelspec": {
   "display_name": "Python 3 (ipykernel)",
   "language": "python",
   "name": "python3"
  },
  "language_info": {
   "codemirror_mode": {
    "name": "ipython",
    "version": 3
   },
   "file_extension": ".py",
   "mimetype": "text/x-python",
   "name": "python",
   "nbconvert_exporter": "python",
   "pygments_lexer": "ipython3",
   "version": "3.11.6"
  }
 },
 "nbformat": 4,
 "nbformat_minor": 4
}
