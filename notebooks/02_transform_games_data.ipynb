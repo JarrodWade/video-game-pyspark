{
 "cells": [
  {
   "cell_type": "code",
   "execution_count": null,
   "id": "5745dd71-688d-4316-8bac-d439f06dbbac",
   "metadata": {},
   "outputs": [],
   "source": [
    "# Add transformations\n",
    "final_df = spark_df \\\n",
    "    .withColumn(\"year\", year(\"released\")) \\\n",
    "    .withColumn(\"month\", month(\"released\")) \\\n",
    "    .withColumn(\"platform_count\", size(split(\"platforms\", \",\"))) \\\n",
    "    .withColumn(\"genre_count\", size(split(\"genres\", \",\"))) \\\n",
    "    .withColumn(\"load_timestamp\", current_timestamp())\n",
    "\n",
    "# Show the schema that was inferred\n",
    "print(\"Inferred Schema:\")\n",
    "final_df.printSchema()\n",
    "\n",
    "# Show sample of transformed data\n",
    "print(\"\\nSample of transformed data:\")\n",
    "final_df.show(5, truncate=False)"
   ]
  },
  {
   "cell_type": "code",
   "execution_count": null,
   "id": "0ef062a0-3210-4e13-93a7-deefe598c9e9",
   "metadata": {},
   "outputs": [],
   "source": [
    "# Write to Iceberg\n",
    "final_df.writeTo(\"demo.rawg_games.games_2024_01\") \\\n",
    "    .tableProperty(\"write.format.default\", \"parquet\") \\\n",
    "    .tableProperty(\"write.metadata.delete-after-commit.enabled\", \"true\") \\\n",
    "    .tableProperty(\"write.metadata.previous-versions-max\", \"2\") \\\n",
    "    .createOrReplace()"
   ]
  }
 ],
 "metadata": {
  "kernelspec": {
   "display_name": "Python 3 (ipykernel)",
   "language": "python",
   "name": "python3"
  },
  "language_info": {
   "codemirror_mode": {
    "name": "ipython",
    "version": 3
   },
   "file_extension": ".py",
   "mimetype": "text/x-python",
   "name": "python",
   "nbconvert_exporter": "python",
   "pygments_lexer": "ipython3",
   "version": "3.9.18"
  }
 },
 "nbformat": 4,
 "nbformat_minor": 5
}
